{
 "cells": [
  {
   "cell_type": "code",
   "execution_count": 12,
   "id": "skilled-delay",
   "metadata": {},
   "outputs": [],
   "source": [
    "import tensorflow.compat.v1 as tf"
   ]
  },
  {
   "cell_type": "code",
   "execution_count": 13,
   "id": "buried-samoa",
   "metadata": {},
   "outputs": [],
   "source": [
    "import numpy as np\n",
    "import pandas as pd\n",
    "from scipy.misc import imread\n",
    "from alexnet import AlexNet\n",
    "tf.compat.v1.disable_eager_execution()\n",
    "sign_names = pd.read_csv('signnames.csv')"
   ]
  },
  {
   "cell_type": "code",
   "execution_count": 14,
   "id": "identified-vegetarian",
   "metadata": {},
   "outputs": [
    {
     "name": "stderr",
     "output_type": "stream",
     "text": [
      "/home/chenging/anaconda3/envs/test_gpu/lib/python3.7/site-packages/ipykernel_launcher.py:4: DeprecationWarning: `imread` is deprecated!\n",
      "`imread` is deprecated in SciPy 1.0.0, and will be removed in 1.2.0.\n",
      "Use ``imageio.imread`` instead.\n",
      "  after removing the cwd from sys.path.\n",
      "/home/chenging/anaconda3/envs/test_gpu/lib/python3.7/site-packages/ipykernel_launcher.py:6: DeprecationWarning: `imread` is deprecated!\n",
      "`imread` is deprecated in SciPy 1.0.0, and will be removed in 1.2.0.\n",
      "Use ``imageio.imread`` instead.\n",
      "  \n"
     ]
    }
   ],
   "source": [
    "import time\n",
    "\n",
    "# Read Images\n",
    "im1 = imread(\"construction.jpg\").astype(np.float32)\n",
    "im1 = im1 - np.mean(im1)\n",
    "im2 = imread(\"stop.jpg\").astype(np.float32)\n",
    "im2 = im2 - np.mean(im2)"
   ]
  },
  {
   "cell_type": "code",
   "execution_count": 17,
   "id": "developmental-classification",
   "metadata": {},
   "outputs": [
    {
     "name": "stdout",
     "output_type": "stream",
     "text": [
      "INFO:tensorflow:Restoring parameters from ./model_data/LeNet_For_Traffic_Sign.ckpt\n"
     ]
    },
    {
     "ename": "FailedPreconditionError",
     "evalue": "Error while reading resource variable Variable_88 from Container: localhost. This could mean that the variable was uninitialized. Not found: Resource localhost/Variable_88/N10tensorflow3VarE does not exist.\n\t [[node Conv2D_47/ReadVariableOp (defined at /home/chenging/DeepLearning/CarND-Alexnet-Feature-Extraction/alexnet.py:14) ]]\n\nErrors may have originated from an input operation.\nInput Source operations connected to node Conv2D_47/ReadVariableOp:\n Variable_88 (defined at /home/chenging/DeepLearning/CarND-Alexnet-Feature-Extraction/alexnet.py:106)\n\nOriginal stack trace for 'Conv2D_47/ReadVariableOp':\n  File \"/home/chenging/anaconda3/envs/test_gpu/lib/python3.7/runpy.py\", line 193, in _run_module_as_main\n    \"__main__\", mod_spec)\n  File \"/home/chenging/anaconda3/envs/test_gpu/lib/python3.7/runpy.py\", line 85, in _run_code\n    exec(code, run_globals)\n  File \"/home/chenging/anaconda3/envs/test_gpu/lib/python3.7/site-packages/ipykernel_launcher.py\", line 16, in <module>\n    app.launch_new_instance()\n  File \"/home/chenging/anaconda3/envs/test_gpu/lib/python3.7/site-packages/traitlets/config/application.py\", line 845, in launch_instance\n    app.start()\n  File \"/home/chenging/anaconda3/envs/test_gpu/lib/python3.7/site-packages/ipykernel/kernelapp.py\", line 612, in start\n    self.io_loop.start()\n  File \"/home/chenging/anaconda3/envs/test_gpu/lib/python3.7/site-packages/tornado/platform/asyncio.py\", line 199, in start\n    self.asyncio_loop.run_forever()\n  File \"/home/chenging/anaconda3/envs/test_gpu/lib/python3.7/asyncio/base_events.py\", line 541, in run_forever\n    self._run_once()\n  File \"/home/chenging/anaconda3/envs/test_gpu/lib/python3.7/asyncio/base_events.py\", line 1786, in _run_once\n    handle._run()\n  File \"/home/chenging/anaconda3/envs/test_gpu/lib/python3.7/asyncio/events.py\", line 88, in _run\n    self._context.run(self._callback, *self._args)\n  File \"/home/chenging/anaconda3/envs/test_gpu/lib/python3.7/site-packages/tornado/ioloop.py\", line 688, in <lambda>\n    lambda f: self._run_callback(functools.partial(callback, future))\n  File \"/home/chenging/anaconda3/envs/test_gpu/lib/python3.7/site-packages/tornado/ioloop.py\", line 741, in _run_callback\n    ret = callback()\n  File \"/home/chenging/anaconda3/envs/test_gpu/lib/python3.7/site-packages/tornado/gen.py\", line 814, in inner\n    self.ctx_run(self.run)\n  File \"/home/chenging/anaconda3/envs/test_gpu/lib/python3.7/site-packages/tornado/gen.py\", line 775, in run\n    yielded = self.gen.send(value)\n  File \"/home/chenging/anaconda3/envs/test_gpu/lib/python3.7/site-packages/ipykernel/kernelbase.py\", line 365, in process_one\n    yield gen.maybe_future(dispatch(*args))\n  File \"/home/chenging/anaconda3/envs/test_gpu/lib/python3.7/site-packages/tornado/gen.py\", line 234, in wrapper\n    yielded = ctx_run(next, result)\n  File \"/home/chenging/anaconda3/envs/test_gpu/lib/python3.7/site-packages/ipykernel/kernelbase.py\", line 268, in dispatch_shell\n    yield gen.maybe_future(handler(stream, idents, msg))\n  File \"/home/chenging/anaconda3/envs/test_gpu/lib/python3.7/site-packages/tornado/gen.py\", line 234, in wrapper\n    yielded = ctx_run(next, result)\n  File \"/home/chenging/anaconda3/envs/test_gpu/lib/python3.7/site-packages/ipykernel/kernelbase.py\", line 545, in execute_request\n    user_expressions, allow_stdin,\n  File \"/home/chenging/anaconda3/envs/test_gpu/lib/python3.7/site-packages/tornado/gen.py\", line 234, in wrapper\n    yielded = ctx_run(next, result)\n  File \"/home/chenging/anaconda3/envs/test_gpu/lib/python3.7/site-packages/ipykernel/ipkernel.py\", line 306, in do_execute\n    res = shell.run_cell(code, store_history=store_history, silent=silent)\n  File \"/home/chenging/anaconda3/envs/test_gpu/lib/python3.7/site-packages/ipykernel/zmqshell.py\", line 536, in run_cell\n    return super(ZMQInteractiveShell, self).run_cell(*args, **kwargs)\n  File \"/home/chenging/anaconda3/envs/test_gpu/lib/python3.7/site-packages/IPython/core/interactiveshell.py\", line 2895, in run_cell\n    raw_cell, store_history, silent, shell_futures)\n  File \"/home/chenging/anaconda3/envs/test_gpu/lib/python3.7/site-packages/IPython/core/interactiveshell.py\", line 2940, in _run_cell\n    return runner(coro)\n  File \"/home/chenging/anaconda3/envs/test_gpu/lib/python3.7/site-packages/IPython/core/async_helpers.py\", line 68, in _pseudo_sync_runner\n    coro.send(None)\n  File \"/home/chenging/anaconda3/envs/test_gpu/lib/python3.7/site-packages/IPython/core/interactiveshell.py\", line 3166, in run_cell_async\n    interactivity=interactivity, compiler=compiler, result=result)\n  File \"/home/chenging/anaconda3/envs/test_gpu/lib/python3.7/site-packages/IPython/core/interactiveshell.py\", line 3357, in run_ast_nodes\n    if (await self.run_code(code, result,  async_=asy)):\n  File \"/home/chenging/anaconda3/envs/test_gpu/lib/python3.7/site-packages/IPython/core/interactiveshell.py\", line 3437, in run_code\n    exec(code_obj, self.user_global_ns, self.user_ns)\n  File \"<ipython-input-17-0c8445ae653b>\", line 7, in <module>\n    fc7 = AlexNet(resized, feature_extract=True)\n  File \"/home/chenging/DeepLearning/CarND-Alexnet-Feature-Extraction/alexnet.py\", line 108, in AlexNet\n    conv3_in = conv(maxpool2, conv3W, conv3b, k_h, k_w, c_o, s_h, s_w, padding=\"SAME\", group=group)\n  File \"/home/chenging/DeepLearning/CarND-Alexnet-Feature-Extraction/alexnet.py\", line 26, in conv\n    conv = convolve(input, kernel)\n  File \"/home/chenging/DeepLearning/CarND-Alexnet-Feature-Extraction/alexnet.py\", line 14, in <lambda>\n    convolve = lambda i, k: tf.nn.conv2d(i, k, [1, s_h, s_w, 1], padding=padding)\n  File \"/home/chenging/anaconda3/envs/test_gpu/lib/python3.7/site-packages/tensorflow/python/util/dispatch.py\", line 201, in wrapper\n    return target(*args, **kwargs)\n  File \"/home/chenging/anaconda3/envs/test_gpu/lib/python3.7/site-packages/tensorflow/python/ops/nn_ops.py\", line 2170, in conv2d_v2\n    name=name)\n  File \"/home/chenging/anaconda3/envs/test_gpu/lib/python3.7/site-packages/tensorflow/python/util/dispatch.py\", line 201, in wrapper\n    return target(*args, **kwargs)\n  File \"/home/chenging/anaconda3/envs/test_gpu/lib/python3.7/site-packages/tensorflow/python/ops/nn_ops.py\", line 2279, in conv2d\n    name=name)\n  File \"/home/chenging/anaconda3/envs/test_gpu/lib/python3.7/site-packages/tensorflow/python/ops/gen_nn_ops.py\", line 973, in conv2d\n    data_format=data_format, dilations=dilations, name=name)\n  File \"/home/chenging/anaconda3/envs/test_gpu/lib/python3.7/site-packages/tensorflow/python/framework/op_def_library.py\", line 522, in _apply_op_helper\n    preferred_dtype=default_dtype)\n  File \"/home/chenging/anaconda3/envs/test_gpu/lib/python3.7/site-packages/tensorflow/python/profiler/trace.py\", line 163, in wrapped\n    return func(*args, **kwargs)\n  File \"/home/chenging/anaconda3/envs/test_gpu/lib/python3.7/site-packages/tensorflow/python/framework/ops.py\", line 1540, in convert_to_tensor\n    ret = conversion_func(value, dtype=dtype, name=name, as_ref=as_ref)\n  File \"/home/chenging/anaconda3/envs/test_gpu/lib/python3.7/site-packages/tensorflow/python/ops/resource_variable_ops.py\", line 1992, in _dense_var_to_tensor\n    return var._dense_var_to_tensor(dtype=dtype, name=name, as_ref=as_ref)  # pylint: disable=protected-access\n  File \"/home/chenging/anaconda3/envs/test_gpu/lib/python3.7/site-packages/tensorflow/python/ops/resource_variable_ops.py\", line 1393, in _dense_var_to_tensor\n    return self.value()\n  File \"/home/chenging/anaconda3/envs/test_gpu/lib/python3.7/site-packages/tensorflow/python/ops/resource_variable_ops.py\", line 565, in value\n    return self._read_variable_op()\n  File \"/home/chenging/anaconda3/envs/test_gpu/lib/python3.7/site-packages/tensorflow/python/ops/resource_variable_ops.py\", line 672, in _read_variable_op\n    result = read_and_set_handle()\n  File \"/home/chenging/anaconda3/envs/test_gpu/lib/python3.7/site-packages/tensorflow/python/ops/resource_variable_ops.py\", line 663, in read_and_set_handle\n    self._handle, self._dtype)\n  File \"/home/chenging/anaconda3/envs/test_gpu/lib/python3.7/site-packages/tensorflow/python/ops/gen_resource_variable_ops.py\", line 485, in read_variable_op\n    \"ReadVariableOp\", resource=resource, dtype=dtype, name=name)\n  File \"/home/chenging/anaconda3/envs/test_gpu/lib/python3.7/site-packages/tensorflow/python/framework/op_def_library.py\", line 750, in _apply_op_helper\n    attrs=attr_protos, op_def=op_def)\n  File \"/home/chenging/anaconda3/envs/test_gpu/lib/python3.7/site-packages/tensorflow/python/framework/ops.py\", line 3536, in _create_op_internal\n    op_def=op_def)\n  File \"/home/chenging/anaconda3/envs/test_gpu/lib/python3.7/site-packages/tensorflow/python/framework/ops.py\", line 1990, in __init__\n    self._traceback = tf_stack.extract_stack()\n",
     "output_type": "error",
     "traceback": [
      "\u001b[0;31m---------------------------------------------------------------------------\u001b[0m",
      "\u001b[0;31mFailedPreconditionError\u001b[0m                   Traceback (most recent call last)",
      "\u001b[0;32m~/anaconda3/envs/test_gpu/lib/python3.7/site-packages/tensorflow/python/client/session.py\u001b[0m in \u001b[0;36m_do_call\u001b[0;34m(self, fn, *args)\u001b[0m\n\u001b[1;32m   1374\u001b[0m     \u001b[0;32mtry\u001b[0m\u001b[0;34m:\u001b[0m\u001b[0;34m\u001b[0m\u001b[0;34m\u001b[0m\u001b[0m\n\u001b[0;32m-> 1375\u001b[0;31m       \u001b[0;32mreturn\u001b[0m \u001b[0mfn\u001b[0m\u001b[0;34m(\u001b[0m\u001b[0;34m*\u001b[0m\u001b[0margs\u001b[0m\u001b[0;34m)\u001b[0m\u001b[0;34m\u001b[0m\u001b[0;34m\u001b[0m\u001b[0m\n\u001b[0m\u001b[1;32m   1376\u001b[0m     \u001b[0;32mexcept\u001b[0m \u001b[0merrors\u001b[0m\u001b[0;34m.\u001b[0m\u001b[0mOpError\u001b[0m \u001b[0;32mas\u001b[0m \u001b[0me\u001b[0m\u001b[0;34m:\u001b[0m\u001b[0;34m\u001b[0m\u001b[0;34m\u001b[0m\u001b[0m\n",
      "\u001b[0;32m~/anaconda3/envs/test_gpu/lib/python3.7/site-packages/tensorflow/python/client/session.py\u001b[0m in \u001b[0;36m_run_fn\u001b[0;34m(feed_dict, fetch_list, target_list, options, run_metadata)\u001b[0m\n\u001b[1;32m   1359\u001b[0m       return self._call_tf_sessionrun(options, feed_dict, fetch_list,\n\u001b[0;32m-> 1360\u001b[0;31m                                       target_list, run_metadata)\n\u001b[0m\u001b[1;32m   1361\u001b[0m \u001b[0;34m\u001b[0m\u001b[0m\n",
      "\u001b[0;32m~/anaconda3/envs/test_gpu/lib/python3.7/site-packages/tensorflow/python/client/session.py\u001b[0m in \u001b[0;36m_call_tf_sessionrun\u001b[0;34m(self, options, feed_dict, fetch_list, target_list, run_metadata)\u001b[0m\n\u001b[1;32m   1452\u001b[0m                                             \u001b[0mfetch_list\u001b[0m\u001b[0;34m,\u001b[0m \u001b[0mtarget_list\u001b[0m\u001b[0;34m,\u001b[0m\u001b[0;34m\u001b[0m\u001b[0;34m\u001b[0m\u001b[0m\n\u001b[0;32m-> 1453\u001b[0;31m                                             run_metadata)\n\u001b[0m\u001b[1;32m   1454\u001b[0m \u001b[0;34m\u001b[0m\u001b[0m\n",
      "\u001b[0;31mFailedPreconditionError\u001b[0m: Error while reading resource variable Variable_88 from Container: localhost. This could mean that the variable was uninitialized. Not found: Resource localhost/Variable_88/N10tensorflow3VarE does not exist.\n\t [[{{node Conv2D_47/ReadVariableOp}}]]",
      "\nDuring handling of the above exception, another exception occurred:\n",
      "\u001b[0;31mFailedPreconditionError\u001b[0m                   Traceback (most recent call last)",
      "\u001b[0;32m<ipython-input-17-0c8445ae653b>\u001b[0m in \u001b[0;36m<module>\u001b[0;34m\u001b[0m\n\u001b[1;32m     19\u001b[0m \u001b[0;34m\u001b[0m\u001b[0m\n\u001b[1;32m     20\u001b[0m     \u001b[0mt\u001b[0m \u001b[0;34m=\u001b[0m \u001b[0mtime\u001b[0m\u001b[0;34m.\u001b[0m\u001b[0mtime\u001b[0m\u001b[0;34m(\u001b[0m\u001b[0;34m)\u001b[0m\u001b[0;34m\u001b[0m\u001b[0;34m\u001b[0m\u001b[0m\n\u001b[0;32m---> 21\u001b[0;31m     \u001b[0moutput\u001b[0m \u001b[0;34m=\u001b[0m \u001b[0msess\u001b[0m\u001b[0;34m.\u001b[0m\u001b[0mrun\u001b[0m\u001b[0;34m(\u001b[0m\u001b[0mtf\u001b[0m\u001b[0;34m.\u001b[0m\u001b[0margmax\u001b[0m\u001b[0;34m(\u001b[0m\u001b[0mlogits\u001b[0m\u001b[0;34m,\u001b[0m\u001b[0;36m1\u001b[0m\u001b[0;34m)\u001b[0m\u001b[0;34m,\u001b[0m \u001b[0mfeed_dict\u001b[0m\u001b[0;34m=\u001b[0m\u001b[0;34m{\u001b[0m\u001b[0mfeatures\u001b[0m\u001b[0;34m:\u001b[0m \u001b[0;34m[\u001b[0m\u001b[0mim1\u001b[0m\u001b[0;34m,\u001b[0m \u001b[0mim2\u001b[0m\u001b[0;34m]\u001b[0m\u001b[0;34m}\u001b[0m\u001b[0;34m)\u001b[0m\u001b[0;34m\u001b[0m\u001b[0;34m\u001b[0m\u001b[0m\n\u001b[0m\u001b[1;32m     22\u001b[0m \u001b[0;34m\u001b[0m\u001b[0m\n",
      "\u001b[0;32m~/anaconda3/envs/test_gpu/lib/python3.7/site-packages/tensorflow/python/client/session.py\u001b[0m in \u001b[0;36mrun\u001b[0;34m(self, fetches, feed_dict, options, run_metadata)\u001b[0m\n\u001b[1;32m    966\u001b[0m     \u001b[0;32mtry\u001b[0m\u001b[0;34m:\u001b[0m\u001b[0;34m\u001b[0m\u001b[0;34m\u001b[0m\u001b[0m\n\u001b[1;32m    967\u001b[0m       result = self._run(None, fetches, feed_dict, options_ptr,\n\u001b[0;32m--> 968\u001b[0;31m                          run_metadata_ptr)\n\u001b[0m\u001b[1;32m    969\u001b[0m       \u001b[0;32mif\u001b[0m \u001b[0mrun_metadata\u001b[0m\u001b[0;34m:\u001b[0m\u001b[0;34m\u001b[0m\u001b[0;34m\u001b[0m\u001b[0m\n\u001b[1;32m    970\u001b[0m         \u001b[0mproto_data\u001b[0m \u001b[0;34m=\u001b[0m \u001b[0mtf_session\u001b[0m\u001b[0;34m.\u001b[0m\u001b[0mTF_GetBuffer\u001b[0m\u001b[0;34m(\u001b[0m\u001b[0mrun_metadata_ptr\u001b[0m\u001b[0;34m)\u001b[0m\u001b[0;34m\u001b[0m\u001b[0;34m\u001b[0m\u001b[0m\n",
      "\u001b[0;32m~/anaconda3/envs/test_gpu/lib/python3.7/site-packages/tensorflow/python/client/session.py\u001b[0m in \u001b[0;36m_run\u001b[0;34m(self, handle, fetches, feed_dict, options, run_metadata)\u001b[0m\n\u001b[1;32m   1189\u001b[0m     \u001b[0;32mif\u001b[0m \u001b[0mfinal_fetches\u001b[0m \u001b[0;32mor\u001b[0m \u001b[0mfinal_targets\u001b[0m \u001b[0;32mor\u001b[0m \u001b[0;34m(\u001b[0m\u001b[0mhandle\u001b[0m \u001b[0;32mand\u001b[0m \u001b[0mfeed_dict_tensor\u001b[0m\u001b[0;34m)\u001b[0m\u001b[0;34m:\u001b[0m\u001b[0;34m\u001b[0m\u001b[0;34m\u001b[0m\u001b[0m\n\u001b[1;32m   1190\u001b[0m       results = self._do_run(handle, final_targets, final_fetches,\n\u001b[0;32m-> 1191\u001b[0;31m                              feed_dict_tensor, options, run_metadata)\n\u001b[0m\u001b[1;32m   1192\u001b[0m     \u001b[0;32melse\u001b[0m\u001b[0;34m:\u001b[0m\u001b[0;34m\u001b[0m\u001b[0;34m\u001b[0m\u001b[0m\n\u001b[1;32m   1193\u001b[0m       \u001b[0mresults\u001b[0m \u001b[0;34m=\u001b[0m \u001b[0;34m[\u001b[0m\u001b[0;34m]\u001b[0m\u001b[0;34m\u001b[0m\u001b[0;34m\u001b[0m\u001b[0m\n",
      "\u001b[0;32m~/anaconda3/envs/test_gpu/lib/python3.7/site-packages/tensorflow/python/client/session.py\u001b[0m in \u001b[0;36m_do_run\u001b[0;34m(self, handle, target_list, fetch_list, feed_dict, options, run_metadata)\u001b[0m\n\u001b[1;32m   1367\u001b[0m     \u001b[0;32mif\u001b[0m \u001b[0mhandle\u001b[0m \u001b[0;32mis\u001b[0m \u001b[0;32mNone\u001b[0m\u001b[0;34m:\u001b[0m\u001b[0;34m\u001b[0m\u001b[0;34m\u001b[0m\u001b[0m\n\u001b[1;32m   1368\u001b[0m       return self._do_call(_run_fn, feeds, fetches, targets, options,\n\u001b[0;32m-> 1369\u001b[0;31m                            run_metadata)\n\u001b[0m\u001b[1;32m   1370\u001b[0m     \u001b[0;32melse\u001b[0m\u001b[0;34m:\u001b[0m\u001b[0;34m\u001b[0m\u001b[0;34m\u001b[0m\u001b[0m\n\u001b[1;32m   1371\u001b[0m       \u001b[0;32mreturn\u001b[0m \u001b[0mself\u001b[0m\u001b[0;34m.\u001b[0m\u001b[0m_do_call\u001b[0m\u001b[0;34m(\u001b[0m\u001b[0m_prun_fn\u001b[0m\u001b[0;34m,\u001b[0m \u001b[0mhandle\u001b[0m\u001b[0;34m,\u001b[0m \u001b[0mfeeds\u001b[0m\u001b[0;34m,\u001b[0m \u001b[0mfetches\u001b[0m\u001b[0;34m)\u001b[0m\u001b[0;34m\u001b[0m\u001b[0;34m\u001b[0m\u001b[0m\n",
      "\u001b[0;32m~/anaconda3/envs/test_gpu/lib/python3.7/site-packages/tensorflow/python/client/session.py\u001b[0m in \u001b[0;36m_do_call\u001b[0;34m(self, fn, *args)\u001b[0m\n\u001b[1;32m   1392\u001b[0m                     \u001b[0;34m'\\nsession_config.graph_options.rewrite_options.'\u001b[0m\u001b[0;34m\u001b[0m\u001b[0;34m\u001b[0m\u001b[0m\n\u001b[1;32m   1393\u001b[0m                     'disable_meta_optimizer = True')\n\u001b[0;32m-> 1394\u001b[0;31m       \u001b[0;32mraise\u001b[0m \u001b[0mtype\u001b[0m\u001b[0;34m(\u001b[0m\u001b[0me\u001b[0m\u001b[0;34m)\u001b[0m\u001b[0;34m(\u001b[0m\u001b[0mnode_def\u001b[0m\u001b[0;34m,\u001b[0m \u001b[0mop\u001b[0m\u001b[0;34m,\u001b[0m \u001b[0mmessage\u001b[0m\u001b[0;34m)\u001b[0m\u001b[0;34m\u001b[0m\u001b[0;34m\u001b[0m\u001b[0m\n\u001b[0m\u001b[1;32m   1395\u001b[0m \u001b[0;34m\u001b[0m\u001b[0m\n\u001b[1;32m   1396\u001b[0m   \u001b[0;32mdef\u001b[0m \u001b[0m_extend_graph\u001b[0m\u001b[0;34m(\u001b[0m\u001b[0mself\u001b[0m\u001b[0;34m)\u001b[0m\u001b[0;34m:\u001b[0m\u001b[0;34m\u001b[0m\u001b[0;34m\u001b[0m\u001b[0m\n",
      "\u001b[0;31mFailedPreconditionError\u001b[0m: Error while reading resource variable Variable_88 from Container: localhost. This could mean that the variable was uninitialized. Not found: Resource localhost/Variable_88/N10tensorflow3VarE does not exist.\n\t [[node Conv2D_47/ReadVariableOp (defined at /home/chenging/DeepLearning/CarND-Alexnet-Feature-Extraction/alexnet.py:14) ]]\n\nErrors may have originated from an input operation.\nInput Source operations connected to node Conv2D_47/ReadVariableOp:\n Variable_88 (defined at /home/chenging/DeepLearning/CarND-Alexnet-Feature-Extraction/alexnet.py:106)\n\nOriginal stack trace for 'Conv2D_47/ReadVariableOp':\n  File \"/home/chenging/anaconda3/envs/test_gpu/lib/python3.7/runpy.py\", line 193, in _run_module_as_main\n    \"__main__\", mod_spec)\n  File \"/home/chenging/anaconda3/envs/test_gpu/lib/python3.7/runpy.py\", line 85, in _run_code\n    exec(code, run_globals)\n  File \"/home/chenging/anaconda3/envs/test_gpu/lib/python3.7/site-packages/ipykernel_launcher.py\", line 16, in <module>\n    app.launch_new_instance()\n  File \"/home/chenging/anaconda3/envs/test_gpu/lib/python3.7/site-packages/traitlets/config/application.py\", line 845, in launch_instance\n    app.start()\n  File \"/home/chenging/anaconda3/envs/test_gpu/lib/python3.7/site-packages/ipykernel/kernelapp.py\", line 612, in start\n    self.io_loop.start()\n  File \"/home/chenging/anaconda3/envs/test_gpu/lib/python3.7/site-packages/tornado/platform/asyncio.py\", line 199, in start\n    self.asyncio_loop.run_forever()\n  File \"/home/chenging/anaconda3/envs/test_gpu/lib/python3.7/asyncio/base_events.py\", line 541, in run_forever\n    self._run_once()\n  File \"/home/chenging/anaconda3/envs/test_gpu/lib/python3.7/asyncio/base_events.py\", line 1786, in _run_once\n    handle._run()\n  File \"/home/chenging/anaconda3/envs/test_gpu/lib/python3.7/asyncio/events.py\", line 88, in _run\n    self._context.run(self._callback, *self._args)\n  File \"/home/chenging/anaconda3/envs/test_gpu/lib/python3.7/site-packages/tornado/ioloop.py\", line 688, in <lambda>\n    lambda f: self._run_callback(functools.partial(callback, future))\n  File \"/home/chenging/anaconda3/envs/test_gpu/lib/python3.7/site-packages/tornado/ioloop.py\", line 741, in _run_callback\n    ret = callback()\n  File \"/home/chenging/anaconda3/envs/test_gpu/lib/python3.7/site-packages/tornado/gen.py\", line 814, in inner\n    self.ctx_run(self.run)\n  File \"/home/chenging/anaconda3/envs/test_gpu/lib/python3.7/site-packages/tornado/gen.py\", line 775, in run\n    yielded = self.gen.send(value)\n  File \"/home/chenging/anaconda3/envs/test_gpu/lib/python3.7/site-packages/ipykernel/kernelbase.py\", line 365, in process_one\n    yield gen.maybe_future(dispatch(*args))\n  File \"/home/chenging/anaconda3/envs/test_gpu/lib/python3.7/site-packages/tornado/gen.py\", line 234, in wrapper\n    yielded = ctx_run(next, result)\n  File \"/home/chenging/anaconda3/envs/test_gpu/lib/python3.7/site-packages/ipykernel/kernelbase.py\", line 268, in dispatch_shell\n    yield gen.maybe_future(handler(stream, idents, msg))\n  File \"/home/chenging/anaconda3/envs/test_gpu/lib/python3.7/site-packages/tornado/gen.py\", line 234, in wrapper\n    yielded = ctx_run(next, result)\n  File \"/home/chenging/anaconda3/envs/test_gpu/lib/python3.7/site-packages/ipykernel/kernelbase.py\", line 545, in execute_request\n    user_expressions, allow_stdin,\n  File \"/home/chenging/anaconda3/envs/test_gpu/lib/python3.7/site-packages/tornado/gen.py\", line 234, in wrapper\n    yielded = ctx_run(next, result)\n  File \"/home/chenging/anaconda3/envs/test_gpu/lib/python3.7/site-packages/ipykernel/ipkernel.py\", line 306, in do_execute\n    res = shell.run_cell(code, store_history=store_history, silent=silent)\n  File \"/home/chenging/anaconda3/envs/test_gpu/lib/python3.7/site-packages/ipykernel/zmqshell.py\", line 536, in run_cell\n    return super(ZMQInteractiveShell, self).run_cell(*args, **kwargs)\n  File \"/home/chenging/anaconda3/envs/test_gpu/lib/python3.7/site-packages/IPython/core/interactiveshell.py\", line 2895, in run_cell\n    raw_cell, store_history, silent, shell_futures)\n  File \"/home/chenging/anaconda3/envs/test_gpu/lib/python3.7/site-packages/IPython/core/interactiveshell.py\", line 2940, in _run_cell\n    return runner(coro)\n  File \"/home/chenging/anaconda3/envs/test_gpu/lib/python3.7/site-packages/IPython/core/async_helpers.py\", line 68, in _pseudo_sync_runner\n    coro.send(None)\n  File \"/home/chenging/anaconda3/envs/test_gpu/lib/python3.7/site-packages/IPython/core/interactiveshell.py\", line 3166, in run_cell_async\n    interactivity=interactivity, compiler=compiler, result=result)\n  File \"/home/chenging/anaconda3/envs/test_gpu/lib/python3.7/site-packages/IPython/core/interactiveshell.py\", line 3357, in run_ast_nodes\n    if (await self.run_code(code, result,  async_=asy)):\n  File \"/home/chenging/anaconda3/envs/test_gpu/lib/python3.7/site-packages/IPython/core/interactiveshell.py\", line 3437, in run_code\n    exec(code_obj, self.user_global_ns, self.user_ns)\n  File \"<ipython-input-17-0c8445ae653b>\", line 7, in <module>\n    fc7 = AlexNet(resized, feature_extract=True)\n  File \"/home/chenging/DeepLearning/CarND-Alexnet-Feature-Extraction/alexnet.py\", line 108, in AlexNet\n    conv3_in = conv(maxpool2, conv3W, conv3b, k_h, k_w, c_o, s_h, s_w, padding=\"SAME\", group=group)\n  File \"/home/chenging/DeepLearning/CarND-Alexnet-Feature-Extraction/alexnet.py\", line 26, in conv\n    conv = convolve(input, kernel)\n  File \"/home/chenging/DeepLearning/CarND-Alexnet-Feature-Extraction/alexnet.py\", line 14, in <lambda>\n    convolve = lambda i, k: tf.nn.conv2d(i, k, [1, s_h, s_w, 1], padding=padding)\n  File \"/home/chenging/anaconda3/envs/test_gpu/lib/python3.7/site-packages/tensorflow/python/util/dispatch.py\", line 201, in wrapper\n    return target(*args, **kwargs)\n  File \"/home/chenging/anaconda3/envs/test_gpu/lib/python3.7/site-packages/tensorflow/python/ops/nn_ops.py\", line 2170, in conv2d_v2\n    name=name)\n  File \"/home/chenging/anaconda3/envs/test_gpu/lib/python3.7/site-packages/tensorflow/python/util/dispatch.py\", line 201, in wrapper\n    return target(*args, **kwargs)\n  File \"/home/chenging/anaconda3/envs/test_gpu/lib/python3.7/site-packages/tensorflow/python/ops/nn_ops.py\", line 2279, in conv2d\n    name=name)\n  File \"/home/chenging/anaconda3/envs/test_gpu/lib/python3.7/site-packages/tensorflow/python/ops/gen_nn_ops.py\", line 973, in conv2d\n    data_format=data_format, dilations=dilations, name=name)\n  File \"/home/chenging/anaconda3/envs/test_gpu/lib/python3.7/site-packages/tensorflow/python/framework/op_def_library.py\", line 522, in _apply_op_helper\n    preferred_dtype=default_dtype)\n  File \"/home/chenging/anaconda3/envs/test_gpu/lib/python3.7/site-packages/tensorflow/python/profiler/trace.py\", line 163, in wrapped\n    return func(*args, **kwargs)\n  File \"/home/chenging/anaconda3/envs/test_gpu/lib/python3.7/site-packages/tensorflow/python/framework/ops.py\", line 1540, in convert_to_tensor\n    ret = conversion_func(value, dtype=dtype, name=name, as_ref=as_ref)\n  File \"/home/chenging/anaconda3/envs/test_gpu/lib/python3.7/site-packages/tensorflow/python/ops/resource_variable_ops.py\", line 1992, in _dense_var_to_tensor\n    return var._dense_var_to_tensor(dtype=dtype, name=name, as_ref=as_ref)  # pylint: disable=protected-access\n  File \"/home/chenging/anaconda3/envs/test_gpu/lib/python3.7/site-packages/tensorflow/python/ops/resource_variable_ops.py\", line 1393, in _dense_var_to_tensor\n    return self.value()\n  File \"/home/chenging/anaconda3/envs/test_gpu/lib/python3.7/site-packages/tensorflow/python/ops/resource_variable_ops.py\", line 565, in value\n    return self._read_variable_op()\n  File \"/home/chenging/anaconda3/envs/test_gpu/lib/python3.7/site-packages/tensorflow/python/ops/resource_variable_ops.py\", line 672, in _read_variable_op\n    result = read_and_set_handle()\n  File \"/home/chenging/anaconda3/envs/test_gpu/lib/python3.7/site-packages/tensorflow/python/ops/resource_variable_ops.py\", line 663, in read_and_set_handle\n    self._handle, self._dtype)\n  File \"/home/chenging/anaconda3/envs/test_gpu/lib/python3.7/site-packages/tensorflow/python/ops/gen_resource_variable_ops.py\", line 485, in read_variable_op\n    \"ReadVariableOp\", resource=resource, dtype=dtype, name=name)\n  File \"/home/chenging/anaconda3/envs/test_gpu/lib/python3.7/site-packages/tensorflow/python/framework/op_def_library.py\", line 750, in _apply_op_helper\n    attrs=attr_protos, op_def=op_def)\n  File \"/home/chenging/anaconda3/envs/test_gpu/lib/python3.7/site-packages/tensorflow/python/framework/ops.py\", line 3536, in _create_op_internal\n    op_def=op_def)\n  File \"/home/chenging/anaconda3/envs/test_gpu/lib/python3.7/site-packages/tensorflow/python/framework/ops.py\", line 1990, in __init__\n    self._traceback = tf_stack.extract_stack()\n"
     ]
    }
   ],
   "source": [
    "tf.compat.v1.disable_eager_execution()\n",
    "features = tf.placeholder(tf.float32, (None, 32, 32, 3))\n",
    "labels = tf.placeholder(tf.int64, None)\n",
    "resized = tf.image.resize_images(features, (227, 227))\n",
    "nb_classes = 43\n",
    "\n",
    "fc7 = AlexNet(resized, feature_extract=True)\n",
    "fc7 = tf.stop_gradient(fc7)\n",
    "shape = (fc7.get_shape().as_list()[-1], nb_classes)\n",
    "fc8W = tf.Variable(tf.compat.v1.truncated_normal(shape, stddev=1e-2))\n",
    "fc8b = tf.Variable(tf.zeros(nb_classes))\n",
    "logits = tf.matmul(fc7, fc8W) + fc8b\n",
    "\n",
    "\n",
    "with tf.Session() as sess:\n",
    "    saver = tf.train.import_meta_graph('./model_data/LeNet_For_Traffic_Sign.ckpt.meta') #載入網路結構\n",
    "    saver.restore(sess, tf.train.latest_checkpoint('./model_data')) #載入最近一次儲存的ckpt\n",
    "    graph = tf.get_default_graph()   \n",
    "    \n",
    "    t = time.time()\n",
    "    output = sess.run(tf.argmax(logits,1), feed_dict={features: [im1, im2]})\n",
    "    \n"
   ]
  },
  {
   "cell_type": "code",
   "execution_count": null,
   "id": "chubby-singles",
   "metadata": {},
   "outputs": [],
   "source": [
    "signNames = { \n",
    "    0:'Speed limit (20km/h)',\n",
    "    1:'Speed limit (30km/h)', \n",
    "    2:'Speed limit (50km/h)', \n",
    "    3:'Speed limit (60km/h)', \n",
    "    4:'Speed limit (70km/h)', \n",
    "    5:'Speed limit (80km/h)', \n",
    "    6:'End of speed limit (80km/h)', \n",
    "    7:'Speed limit (100km/h)', \n",
    "    8:'Speed limit (120km/h)', \n",
    "    9:'No passing', \n",
    "    10:'No passing veh over 3.5 tons', \n",
    "    11:'Right-of-way at intersection', \n",
    "    12:'Priority road', \n",
    "    13:'Yield', \n",
    "    14:'Stop', \n",
    "    15:'No vehicles', \n",
    "    16:'Veh > 3.5 tons prohibited', \n",
    "    17:'No entry', \n",
    "    18:'General caution', \n",
    "    19:'Dangerous curve left', \n",
    "    20:'Dangerous curve right', \n",
    "    21:'Double curve', \n",
    "    22:'Bumpy road', \n",
    "    23:'Slippery road', \n",
    "    24:'Road narrows on the right', \n",
    "    25:'Road work', \n",
    "    26:'Traffic signals', \n",
    "    27:'Pedestrians', \n",
    "    28:'Children crossing', \n",
    "    29:'Bicycles crossing', \n",
    "    30:'Beware of ice/snow',\n",
    "    31:'Wild animals crossing', \n",
    "    32:'End speed + passing limits', \n",
    "    33:'Turn right ahead', \n",
    "    34:'Turn left ahead', \n",
    "    35:'Ahead only', \n",
    "    36:'Go straight or right', \n",
    "    37:'Go straight or left', \n",
    "    38:'Keep right', \n",
    "    39:'Keep left', \n",
    "    40:'Roundabout mandatory', \n",
    "    41:'End of no passing', \n",
    "    42:'End no passing veh > 3.5 tons'\n",
    "          }"
   ]
  },
  {
   "cell_type": "code",
   "execution_count": null,
   "id": "sweet-content",
   "metadata": {},
   "outputs": [],
   "source": [
    "import matplotlib.pyplot as plt\n",
    "plt.imshow(im1)\n",
    "plt.title('Prediction : ' + signNames[output[0]])\n",
    "plt.show()\n",
    "\n",
    "plt.imshow(im2)\n",
    "plt.title('Prediction : ' + signNames[output[1]])\n",
    "plt.show()"
   ]
  },
  {
   "cell_type": "code",
   "execution_count": null,
   "id": "raising-loading",
   "metadata": {},
   "outputs": [],
   "source": []
  }
 ],
 "metadata": {
  "kernelspec": {
   "display_name": "Python 3",
   "language": "python",
   "name": "python3"
  },
  "language_info": {
   "codemirror_mode": {
    "name": "ipython",
    "version": 3
   },
   "file_extension": ".py",
   "mimetype": "text/x-python",
   "name": "python",
   "nbconvert_exporter": "python",
   "pygments_lexer": "ipython3",
   "version": "3.7.10"
  }
 },
 "nbformat": 4,
 "nbformat_minor": 5
}
